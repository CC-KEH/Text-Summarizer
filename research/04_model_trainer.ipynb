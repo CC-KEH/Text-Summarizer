{
 "cells": [
  {
   "cell_type": "code",
   "execution_count": 1,
   "metadata": {},
   "outputs": [],
   "source": [
    "import os"
   ]
  },
  {
   "cell_type": "code",
   "execution_count": 2,
   "metadata": {},
   "outputs": [],
   "source": [
    "os.chdir('../')"
   ]
  },
  {
   "cell_type": "code",
   "execution_count": 5,
   "metadata": {},
   "outputs": [],
   "source": [
    "from dataclasses import dataclass\n",
    "from pathlib import Path \n",
    "\n",
    "@dataclass(frozen=True)\n",
    "class Model_Trainer_Config:\n",
    "    root_dir: Path\n",
    "    model_path: Path\n",
    "    data_path: Path\n",
    "    num_train_epochs: int\n",
    "    warmup_steps: int\n",
    "    per_device_train_batch_size: int\n",
    "    per_device_eval_batch_size: int\n",
    "    weight_decay: float\n",
    "    logging_steps: int\n",
    "    evaluation_strategy: str\n",
    "    eval_steps: int\n",
    "    save_steps: float\n",
    "    gradient_accumulation_steps: int"
   ]
  },
  {
   "cell_type": "code",
   "execution_count": 6,
   "metadata": {},
   "outputs": [],
   "source": [
    "from src.txt_sm.constants import *\n",
    "from src.txt_sm.utils.common import read_yaml,create_dirs\n",
    "\n",
    "\n",
    "class Configuration_Manager:\n",
    "    def __init__(self,config_path=CONFIG_PATH,params_path=PARAMS_PATH):\n",
    "        self.config = read_yaml(config_path)\n",
    "        self.params = read_yaml(params_path)\n",
    "        create_dirs([self.config.artifacts_root])\n",
    "        \n",
    "    def get_data_ingestion_config(self) -> Model_Trainer_Config:\n",
    "        config = self.config\n",
    "        \n",
    "        create_dirs([config.root_dir])\n",
    "        model_trainer_config = Model_Trainer_Config(root_dir=config.root_dir,\n",
    "                                                    model_path=config.model_path,\n",
    "                                                    data_path=config.data_path,\n",
    "                                                    num_train_epochs=config.num_train_epochs,\n",
    "                                                    warmup_steps=config.warmup_steps,\n",
    "                                                    per_device_train_batch_size=config.per_device_train_batch_size,\n",
    "                                                    per_device_eval_batch_size=config.per_device_eval_batch_size,\n",
    "                                                    weight_decay=config.weight_decay,\n",
    "                                                    logging_steps=config.logging_steps,\n",
    "                                                    evaluation_strategy=config.evaluation_strategy,\n",
    "                                                    eval_steps=config.eval_steps,\n",
    "                                                    save_steps=config.save_steps,\n",
    "                                                    gradient_accumulation_steps=config.gradient_accumulation_steps)\n",
    "        return model_trainer_config\n",
    "    "
   ]
  },
  {
   "cell_type": "code",
   "execution_count": 8,
   "metadata": {},
   "outputs": [],
   "source": [
    "import urllib.request as request\n",
    "import zipfile\n",
    "from src.txt_sm.logging import logger\n",
    "from src.txt_sm.utils.common import get_size\n",
    "from transformers import set_seed,pipeline,Trainer,TrainingArguments\n",
    "from datasets import load_dataset,load_from_disk,load_metric\n",
    "from transformers import AutoModelForSeq2SeqLM, AutoTokenizer\n",
    "import torch\n",
    "from transformers import DataCollatorForSeq2Seq\n",
    "\n",
    "class Model_Trainer:\n",
    "    def __init__(self,config:Model_Trainer_Config):\n",
    "        self.config = config\n",
    "    \n",
    "    def initiate_model_trainer(self):\n",
    "       device = 'cuda' if torch.cuda.is_available() else 'cpu'\n",
    "       tokenizer = AutoTokenizer.from_pretrained(self.config.model_path)\n",
    "       model_pegasus = AutoModelForSeq2SeqLM.from_pretrained(self.config.model_path).to(device)\n",
    "       seq2seq_data_collator = DataCollatorForSeq2Seq(tokenizer,model=model_pegasus)\n",
    "       \n",
    "       dataset_pt = load_from_disk(self.config.data_path)\n",
    "       \n",
    "       training_args = TrainingArguments(\n",
    "           output_dir=self.config.root_dir,\n",
    "           num_train_epochs=self.config.num_train_epochs, \n",
    "           warmup_steps=self.config.warmup_steps, \n",
    "           per_device_train_batch_size=self.config.per_device_train_batch_size, \n",
    "           per_device_eval_batch_size=self.config.per_device_eval_batch_size, \n",
    "           weight_decay=self.config.weight_decay, \n",
    "           logging_steps=self.config.logging_steps, \n",
    "           evaluation_strategy=self.config.evaluation_strategy, \n",
    "           eval_steps=self.config.eval_steps, \n",
    "           save_steps=self.config.save_steps, \n",
    "           gradient_accumulation_steps=self.config.gradient_accumulation_steps\n",
    "       )\n",
    "       \n",
    "       trainer = Trainer(model=model_pegasus,\n",
    "                         args=training_args,\n",
    "                         tokenizer=tokenizer,\n",
    "                         data_collator=seq2seq_data_collator,\n",
    "                         train_dataset=dataset_pt['train'],\n",
    "                         eval_dataset=dataset_pt['validation'])\n",
    "       \n",
    "       trainer.train()\n",
    "       \n",
    "       model_pegasus.save_pretrained(os.path.join(self.config.root_dir,'pegasus-samsum-model'))\n",
    "       \n",
    "       tokenizer.save_pretrained(os.path.join(self.config.root_dir,'tokenizer'))"
   ]
  },
  {
   "cell_type": "code",
   "execution_count": null,
   "metadata": {},
   "outputs": [],
   "source": []
  }
 ],
 "metadata": {
  "kernelspec": {
   "display_name": "Python 3",
   "language": "python",
   "name": "python3"
  },
  "language_info": {
   "codemirror_mode": {
    "name": "ipython",
    "version": 3
   },
   "file_extension": ".py",
   "mimetype": "text/x-python",
   "name": "python",
   "nbconvert_exporter": "python",
   "pygments_lexer": "ipython3",
   "version": "3.8.18"
  }
 },
 "nbformat": 4,
 "nbformat_minor": 2
}
