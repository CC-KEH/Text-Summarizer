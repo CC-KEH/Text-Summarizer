{
 "cells": [
  {
   "cell_type": "code",
   "execution_count": 1,
   "metadata": {},
   "outputs": [],
   "source": [
    "import os"
   ]
  },
  {
   "cell_type": "code",
   "execution_count": 2,
   "metadata": {},
   "outputs": [],
   "source": [
    "os.chdir('../')"
   ]
  },
  {
   "cell_type": "code",
   "execution_count": 3,
   "metadata": {},
   "outputs": [],
   "source": [
    "from dataclasses import dataclass\n",
    "from pathlib import Path \n",
    "\n",
    "\n",
    "@dataclass(frozen=True)\n",
    "class Data_Transformation_Config:\n",
    "    root_dir: Path\n",
    "    data_path: Path\n",
    "    preprocessor: str"
   ]
  },
  {
   "cell_type": "code",
   "execution_count": 6,
   "metadata": {},
   "outputs": [],
   "source": [
    "from src.txt_sm.utils.common import read_yaml,create_dirs\n",
    "from src.txt_sm.constants import *\n",
    "\n",
    "class Configuration_Manager:\n",
    "    def __init__(self,config_path=CONFIG_PATH,params_path=PARAMS_PATH):\n",
    "        self.config = read_yaml(config_path)\n",
    "        self.params = read_yaml(params_path)\n",
    "        \n",
    "        create_dirs([self.config.artifacts_root])\n",
    "        \n",
    "    def get_data_transformation_config(self) -> Data_Transformation_Config:\n",
    "        config = self.config\n",
    "        create_dirs([config.root_dir])\n",
    "        data_transformation_config = Data_Transformation_Config(root_dir=config.root_dir,data_path=config.data_path,preprocessor=config.preprocessor)\n",
    "        return data_transformation_config"
   ]
  },
  {
   "cell_type": "code",
   "execution_count": 7,
   "metadata": {},
   "outputs": [
    {
     "name": "stderr",
     "output_type": "stream",
     "text": [
      "c:\\Users\\arbas\\Documents\\Projects\\Machine-Learning\\EndToEnd_Deployed\\Text_Summarization\\venv\\lib\\site-packages\\tqdm\\auto.py:21: TqdmWarning: IProgress not found. Please update jupyter and ipywidgets. See https://ipywidgets.readthedocs.io/en/stable/user_install.html\n",
      "  from .autonotebook import tqdm as notebook_tqdm\n"
     ]
    },
    {
     "name": "stdout",
     "output_type": "stream",
     "text": [
      "[2024-03-07 12:00:18,357: INFO: config: PyTorch version 2.2.1 available.]\n"
     ]
    }
   ],
   "source": [
    "from datasets import load_dataset,load_from_disk\n",
    "from transformers import AutoTokenizer\n",
    "from src.txt_sm.logging import logger\n",
    "import os\n",
    "\n",
    "class Data_Transformation:\n",
    "    def __init__(self):\n",
    "        config = Configuration_Manager()\n",
    "        self.data_transformation_config = config.get_data_transformation_config()\n",
    "        self.tokenizer = AutoTokenizer.from_pretrained(config.preprocessor)\n",
    "        \n",
    "    \n",
    "    def convert_data_to_features(self,data):\n",
    "        input_encodings = self.tokenizer(data['dialogue'],max_length=1024,truncation=True)\n",
    "        \n",
    "        with self.tokenizer.as_target_tokenizer():\n",
    "            target_encodings = self.tokenizer(data['summary'],max_length=128,truncation=True)\n",
    "        \n",
    "        return {\n",
    "            'input_ids': input_encodings['input_ids'],\n",
    "            'attention_mask': input_encodings['attention_mask'],\n",
    "            'labels': target_encodings['input_ids']\n",
    "        }\n",
    "    \n",
    "    def initiate_data_transformation(self):\n",
    "        dataset_samsum = load_from_disk(self.data_transformation_config.data_path)\n",
    "        dataset_pt = dataset_samsum.map(self.convert_data_to_features,batched=True)\n",
    "        dataset_pt.save_to_disk(os.path.join(self.data_transformation_config.root_dir,'preprocessed_dataset'))\n",
    "        "
   ]
  },
  {
   "cell_type": "code",
   "execution_count": null,
   "metadata": {},
   "outputs": [],
   "source": []
  }
 ],
 "metadata": {
  "kernelspec": {
   "display_name": "Python 3",
   "language": "python",
   "name": "python3"
  },
  "language_info": {
   "codemirror_mode": {
    "name": "ipython",
    "version": 3
   },
   "file_extension": ".py",
   "mimetype": "text/x-python",
   "name": "python",
   "nbconvert_exporter": "python",
   "pygments_lexer": "ipython3",
   "version": "3.8.18"
  }
 },
 "nbformat": 4,
 "nbformat_minor": 2
}
