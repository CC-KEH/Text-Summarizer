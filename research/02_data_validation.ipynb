{
 "cells": [
  {
   "cell_type": "code",
   "execution_count": 2,
   "metadata": {},
   "outputs": [],
   "source": [
    "import os"
   ]
  },
  {
   "cell_type": "code",
   "execution_count": 3,
   "metadata": {},
   "outputs": [],
   "source": [
    "os.chdir('../')"
   ]
  },
  {
   "cell_type": "code",
   "execution_count": 4,
   "metadata": {},
   "outputs": [],
   "source": [
    "from dataclasses import dataclass\n",
    "from pathlib import Path \n",
    "\n",
    "@dataclass(frozen=True)\n",
    "class Data_Validation_Config:\n",
    "    root_dir: Path\n",
    "    STATUS_FILE: str\n",
    "    ALL_REQUIRED_FILES: list     "
   ]
  },
  {
   "cell_type": "code",
   "execution_count": 5,
   "metadata": {},
   "outputs": [],
   "source": [
    "from src.txt_sm.constants import *\n",
    "from src.txt_sm.utils.common import read_yaml,create_dirs\n",
    "\n",
    "\n",
    "class Configuration_Manager:\n",
    "    def __init__(self,config_path=CONFIG_PATH,params_path=PARAMS_PATH):\n",
    "        self.config = read_yaml(config_path)\n",
    "        self.params = read_yaml(params_path)\n",
    "    \n",
    "        create_dirs([self.config.artifacts_root])\n",
    "        \n",
    "    def get_data_validation_config(self) -> Data_Validation_Config:\n",
    "        config = self.config\n",
    "        \n",
    "        create_dirs([config.root_dir])\n",
    "        data_validation_config = Data_Validation_Config(root_dir=config.root_dir,\n",
    "                                                      STATUS_FILE=config.STATUS_FILE,\n",
    "                                                      ALL_REQUIRED_FILES=config.ALL_REQUIRED_FILES)\n",
    "        return data_validation_config"
   ]
  },
  {
   "cell_type": "code",
   "execution_count": 6,
   "metadata": {},
   "outputs": [],
   "source": [
    "import urllib.request as request\n",
    "import zipfile\n",
    "from src.txt_sm.logging import logger\n",
    "from src.txt_sm.utils.common import get_size\n",
    "\n",
    "\n",
    "class DataValidation:\n",
    "    def __init__(self,config:Data_Validation_Config ):\n",
    "        self.config = config\n",
    "\n",
    "    def initiate_data_validation(self):\n",
    "        try:\n",
    "            validation_status = False\n",
    "            all_files = os.listdir(os.path.join('artifacts','data_ingestion','data'))\n",
    "            \n",
    "            for file in all_files:\n",
    "                if file not in self.config.ALL_REQUIRED_FILES:\n",
    "                    validation_status = False\n",
    "                    with open(self.config.STATUS_FILE, 'w') as file:\n",
    "                        file.write(f'Validation status: {validation_status}')\n",
    "                else:\n",
    "                    validation_status = True\n",
    "                    with open(self.config.STATUS_FILE,'w') as file:\n",
    "                        file.write(f'Validation status: {validation_status}')\n",
    "            \n",
    "            if not validation_status:\n",
    "                logger.info('Couldnt Validate all files')\n",
    "            else:\n",
    "                logger.info('Successfully Validated all files')\n",
    "            \n",
    "            return validation_status            \n",
    "        \n",
    "        except Exception as e:\n",
    "            raise e"
   ]
  },
  {
   "cell_type": "code",
   "execution_count": null,
   "metadata": {},
   "outputs": [],
   "source": []
  }
 ],
 "metadata": {
  "kernelspec": {
   "display_name": "Python 3",
   "language": "python",
   "name": "python3"
  },
  "language_info": {
   "codemirror_mode": {
    "name": "ipython",
    "version": 3
   },
   "file_extension": ".py",
   "mimetype": "text/x-python",
   "name": "python",
   "nbconvert_exporter": "python",
   "pygments_lexer": "ipython3",
   "version": "3.8.18"
  }
 },
 "nbformat": 4,
 "nbformat_minor": 2
}
